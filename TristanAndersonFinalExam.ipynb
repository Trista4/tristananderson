{
 "cells": [
  {
   "cell_type": "markdown",
   "metadata": {},
   "source": [
    "Tristan Anderson Final Exam "
   ]
  },
  {
   "cell_type": "markdown",
   "metadata": {},
   "source": [
    "* You will have 1 hour and 40 minutes to finish the test.\n",
    "* This part includes 10 questions. Each question is worth 15 points.\n",
    "* You get extra 30 points for full answers.\n",
    "* Please read the instructions carefully. "
   ]
  },
  {
   "cell_type": "markdown",
   "metadata": {},
   "source": [
    "## I. SET UP\n"
   ]
  },
  {
   "cell_type": "markdown",
   "metadata": {},
   "source": [
    "### Import pandas library for use in scripting. "
   ]
  },
  {
   "cell_type": "code",
   "execution_count": 2,
   "metadata": {},
   "outputs": [],
   "source": [
    "import pandas as pd"
   ]
  },
  {
   "cell_type": "markdown",
   "metadata": {},
   "source": [
    "### Import the datasets and name them.\n",
    "For this test, you will analyze revenue and expenditure data released by Kansas Department of Administration for the fiscal year 2018. While the original data can be directly downloaded [here](http://kanview.ks.gov/DataDownload.aspx), for your convenience, the instructor had them uploaded to a server at the following urls. \n",
    "\n",
    "#### For Kansas State University:\n",
    "1. Expenditure data: https://datajournalism.tech/wp-content/uploads/2019/05/ExpData_367_2018.csv\n",
    "2. Revenue data: https://datajournalism.tech/wp-content/uploads/2019/05/RevData_367_2018.csv\n",
    "\n",
    "#### For University of Kansas:\n",
    "3. Expenditure data: https://datajournalism.tech/wp-content/uploads/2019/05/ExpData_682_2018.csv\n",
    "4. Revenue data: https://datajournalism.tech/wp-content/uploads/2019/05/RevData_682_2018.csv\n",
    "\n",
    "You will need to import all 4 datasets and name them in an easy way to call out later.\n",
    "\n",
    "*Please refer to the [Glossary](http://kanview.ks.gov/Glossary.aspx#f) for data description."
   ]
  },
  {
   "cell_type": "code",
   "execution_count": 31,
   "metadata": {},
   "outputs": [],
   "source": [
    "ksuexp = pd.read_csv(\"https://datajournalism.tech/wp-content/uploads/2019/05/ExpData_367_2018.csv\")"
   ]
  },
  {
   "cell_type": "code",
   "execution_count": 32,
   "metadata": {},
   "outputs": [],
   "source": [
    "ksurev = pd.read_csv(\"https://datajournalism.tech/wp-content/uploads/2019/05/RevData_367_2018.csv\")"
   ]
  },
  {
   "cell_type": "code",
   "execution_count": 33,
   "metadata": {},
   "outputs": [],
   "source": [
    "kuexp = pd.read_csv(\"https://datajournalism.tech/wp-content/uploads/2019/05/ExpData_682_2018.csv\")"
   ]
  },
  {
   "cell_type": "code",
   "execution_count": 34,
   "metadata": {},
   "outputs": [],
   "source": [
    "kurev = pd.read_csv(\"https://datajournalism.tech/wp-content/uploads/2019/05/RevData_682_2018.csv\")"
   ]
  },
  {
   "cell_type": "markdown",
   "metadata": {},
   "source": [
    "## II. REQUIRED QUESTIONS\n",
    "* Make sure you type the answers in the cells right below the codes.\n",
    "* If you need to add extra cells, click the + button in the toolbar up the top. "
   ]
  },
  {
   "cell_type": "markdown",
   "metadata": {},
   "source": [
    "### Q1: What is the total revenue recorded for Kansas State University in the fiscal year of 2018? How does it compare to the total revenue recorded for University of Kansas in the same year?"
   ]
  },
  {
   "cell_type": "code",
   "execution_count": 22,
   "metadata": {},
   "outputs": [
    {
     "data": {
      "text/plain": [
       "Fiscal_Year                                                                  3854380\n",
       "Fiscal_Quarter                                                                  4781\n",
       "Business_Unit                                                                 700970\n",
       "Business_Unit_Descr                Kansas State University       Kansas State Uni...\n",
       "GAAP_Fund_Type                                                                 22825\n",
       "GAAP_Fund_Type_Descr               General Fund                  Component Unit  ...\n",
       "Fund_Code                                                                    7600145\n",
       "Fund_Code_Descr                    STATE GENERAL FUND            NATIONAL BIO AGR...\n",
       "Budget_Ref                                                                   6903830\n",
       "Budget_Ref_Descr                   OPERATING EXP-INCLD OFF HOS                   ...\n",
       "Program_Code                                                               108008432\n",
       "Program_Code_Descr                 Fiscal Operating              Individual/Proje...\n",
       "State_Function                                                                 49407\n",
       "State_Function_Descr               Education                                     ...\n",
       "Primary_Account_Code                                                         9398100\n",
       "Primary_Account_Code_Descr         REV FROM USE OF MONEY & PROP  REVENUE TRANSFER...\n",
       "Intermediate_Account_Code                                                   94338400\n",
       "Intermediate_Account_Code_Descr    INTEREST AND INVESTMENTS      REVENUE TRANSFER...\n",
       "Detail_Account_Code                                                        946096560\n",
       "Detail_Account_Code_Descr          INT AGENCY BANK ACCOUNTS      OPERATING TRANSF...\n",
       "Total                                                                    8.54325e+08\n",
       "Unnamed: 21                                                                        0\n",
       "dtype: object"
      ]
     },
     "execution_count": 22,
     "metadata": {},
     "output_type": "execute_result"
    }
   ],
   "source": [
    "ksurev.sum()"
   ]
  },
  {
   "cell_type": "code",
   "execution_count": 23,
   "metadata": {},
   "outputs": [
    {
     "data": {
      "text/plain": [
       "Fiscal_Year                                                                  2173386\n",
       "Fiscal_Quarter                                                                  2782\n",
       "Business_Unit                                                                 734514\n",
       "Business_Unit_Descr                University of Kansas          University of Ka...\n",
       "GAAP_Fund_Type                                                                 12924\n",
       "GAAP_Fund_Type_Descr               Component Unit                Component Unit  ...\n",
       "Fund_Code                                                                    4513144\n",
       "Fund_Code_Descr                    GENERAL FF                    GENERAL FF      ...\n",
       "Budget_Ref                                                                   4229699\n",
       "Budget_Ref_Descr                   GENERAL FF                                    ...\n",
       "Program_Code                                                                59202000\n",
       "Program_Code_Descr                 Institutional Support         Institutional Su...\n",
       "State_Function                                                                 28002\n",
       "State_Function_Descr               Universities                                  ...\n",
       "Primary_Account_Code                                                         5151700\n",
       "Primary_Account_Code_Descr         AGENCY EARNINGS               NON REVENUE RECE...\n",
       "Intermediate_Account_Code                                                   51677400\n",
       "Intermediate_Account_Code_Descr    SERVICE CHARGES               REIMBURSEMENTS A...\n",
       "Detail_Account_Code                                                        518139400\n",
       "Detail_Account_Code_Descr          EDUCATION AND LIBRARIES       OTHER REIMB AND ...\n",
       "Total                                                                    8.08768e+08\n",
       "Unnamed: 21                                                                        0\n",
       "dtype: object"
      ]
     },
     "execution_count": 23,
     "metadata": {},
     "output_type": "execute_result"
    }
   ],
   "source": [
    "kurev.sum()"
   ]
  },
  {
   "cell_type": "code",
   "execution_count": 27,
   "metadata": {
    "scrolled": true
   },
   "outputs": [
    {
     "ename": "SyntaxError",
     "evalue": "invalid syntax (<ipython-input-27-e2701284b058>, line 1)",
     "output_type": "error",
     "traceback": [
      "\u001b[0;36m  File \u001b[0;32m\"<ipython-input-27-e2701284b058>\"\u001b[0;36m, line \u001b[0;32m1\u001b[0m\n\u001b[0;31m    Kansas State University made 3854380 and Kansas University 2173386\u001b[0m\n\u001b[0m               ^\u001b[0m\n\u001b[0;31mSyntaxError\u001b[0m\u001b[0;31m:\u001b[0m invalid syntax\n"
     ]
    }
   ],
   "source": [
    "Kansas State University made 3854380 and Kansas University 2173386\n",
    "3854380 - 2173386 \n",
    "1680994 more in revenue than KU. "
   ]
  },
  {
   "cell_type": "markdown",
   "metadata": {},
   "source": []
  },
  {
   "cell_type": "markdown",
   "metadata": {},
   "source": [
    "### Q2: What is the total expense recorded for Kansas State University in the fiscal year of 2018? How does it compare to the total expense recorded for University of Kansas in the same year?"
   ]
  },
  {
   "cell_type": "code",
   "execution_count": 38,
   "metadata": {},
   "outputs": [
    {
     "data": {
      "text/plain": [
       "Fiscal_Year                                                                 21295954\n",
       "Fiscal_Quarter                                                                 27075\n",
       "Business_Unit                                                                7197146\n",
       "Business_Unit_Descr                University of Kansas          University of Ka...\n",
       "GAAP_Fund_Type                                                                115356\n",
       "GAAP_Fund_Type_Descr               General Fund                  General Fund    ...\n",
       "Fund_Code                                                                   29412141\n",
       "Fund_Code_Descr                    STATE GENERAL FUND            STATE GENERAL FU...\n",
       "Budget_Ref                                                                  26511953\n",
       "Budget_Ref_Descr                   OPERATING EXP-INCLD OFF HOS                   ...\n",
       "Program_Code                                                               549045000\n",
       "Program_Code_Descr                 Instructional Services        Academic Support...\n",
       "State_Function                                                                250642\n",
       "State_Function_Descr               Education                                     ...\n",
       "Primary_Account_Code                                                        55066800\n",
       "Primary_Account_Code_Descr         CONTRACTUAL SERVICES          SALARIES AND WAG...\n",
       "Intermediate_Account_Code                                                  553957150\n",
       "Intermediate_Account_Code_Descr    FEES-OTHER SERVICES           SALARIES AND WAG...\n",
       "Detail_Account_Code                                                       5562437249\n",
       "Detail_Account_Code_Descr          OTHER FEES                    UNCLASSIFIED REG...\n",
       "Total                                                                    9.90239e+08\n",
       "Unnamed: 21                                                                        0\n",
       "dtype: object"
      ]
     },
     "execution_count": 38,
     "metadata": {},
     "output_type": "execute_result"
    }
   ],
   "source": [
    "kuexp.sum()"
   ]
  },
  {
   "cell_type": "markdown",
   "metadata": {},
   "source": [
    "Answer: KSU's expense is 486,221,692 and KU's is 21,295,954\n",
    "486,221,692 - 21,295,954 = 464,925,738 \n",
    "KSU had $464,925,738 more than KU"
   ]
  },
  {
   "cell_type": "markdown",
   "metadata": {},
   "source": [
    "### Q3: Where did the two universities' primary revenues come from? \n",
    "*Refer to the description [here](http://kanview.ks.gov/Revenues/AcctCodeRevenues.aspx) to write your answer."
   ]
  },
  {
   "cell_type": "code",
   "execution_count": 84,
   "metadata": {},
   "outputs": [
    {
     "data": {
      "text/plain": [
       "Primary_Account_Code_Descr\n",
       "AGENCY EARNINGS                  412565112.820\n",
       "GIFT DONATION FEDERAL GRANTS     278778848.030\n",
       "NON REVENUE RECEIPTS              71947564.050\n",
       "OTHER REVENUE                      8432030.160\n",
       "REV FROM USE OF MONEY & PROP      34139318.040\n",
       "REVENUE TRANSFERS                 48458616.490\n",
       "TAXES                                 3154.250\n",
       "Name: Total, dtype: float64"
      ]
     },
     "execution_count": 84,
     "metadata": {},
     "output_type": "execute_result"
    }
   ],
   "source": [
    "ksurev.groupby(\"Primary_Account_Code_Descr\").Total.sum()"
   ]
  },
  {
   "cell_type": "code",
   "execution_count": null,
   "metadata": {},
   "outputs": [],
   "source": [
    "Gifts, Donations, and Federal Grants"
   ]
  },
  {
   "cell_type": "code",
   "execution_count": 85,
   "metadata": {},
   "outputs": [
    {
     "data": {
      "text/plain": [
       "Primary_Account_Code_Descr\n",
       "AGENCY EARNINGS                  408409337.320\n",
       "GIFT DONATION FEDERAL GRANTS     193836668.320\n",
       "NON REVENUE RECEIPTS              69753247.670\n",
       "OTHER REVENUE                     68241930.500\n",
       "REV FROM USE OF MONEY & PROP      40950779.540\n",
       "REVENUE TRANSFERS                 26013855.400\n",
       "TAXES                              1562083.800\n",
       "Name: Total, dtype: float64"
      ]
     },
     "execution_count": 85,
     "metadata": {},
     "output_type": "execute_result"
    }
   ],
   "source": [
    "kurev.groupby(\"Primary_Account_Code_Descr\").Total.sum()"
   ]
  },
  {
   "cell_type": "markdown",
   "metadata": {},
   "source": [
    "<b>Answer:</b> Gifts, Donations, and Federal Grants"
   ]
  },
  {
   "cell_type": "markdown",
   "metadata": {},
   "source": [
    "### Q4: What was the biggest source of revenues for Kansas State University? Compare to the one of University of Kansas."
   ]
  },
  {
   "cell_type": "markdown",
   "metadata": {},
   "source": [
    "Remove hashtag and run the following code to suppress scientific notation:"
   ]
  },
  {
   "cell_type": "code",
   "execution_count": 97,
   "metadata": {},
   "outputs": [
    {
     "data": {
      "text/plain": [
       "Primary_Account_Code_Descr\n",
       "AGENCY EARNINGS                412565112.820\n",
       "GIFT DONATION FEDERAL GRANTS   278778848.030\n",
       "NON REVENUE RECEIPTS            71947564.050\n",
       "OTHER REVENUE                    8432030.160\n",
       "REV FROM USE OF MONEY & PROP    34139318.040\n",
       "REVENUE TRANSFERS               48458616.490\n",
       "TAXES                               3154.250\n",
       "Name: Total, dtype: float64"
      ]
     },
     "execution_count": 97,
     "metadata": {},
     "output_type": "execute_result"
    }
   ],
   "source": [
    "ksurev.groupby(\"Primary_Account_Code_Descr\").Total.sum()"
   ]
  },
  {
   "cell_type": "code",
   "execution_count": null,
   "metadata": {},
   "outputs": [],
   "source": []
  },
  {
   "cell_type": "markdown",
   "metadata": {},
   "source": [
    "<b>Answer:</b> Gifts, Donations, and Federal Grants for both universities. "
   ]
  },
  {
   "cell_type": "markdown",
   "metadata": {},
   "source": [
    "### Q5: What accounts contributed to Kansas State University's biggest source of revenues?\n",
    "If you run into a situation where a filter function returns 0 results, you may want to check if there are leading and trailing spaces in the column. To clean the leading and trailing spaces, you will need to remove the hashtag, revise the names, and run the following code:"
   ]
  },
  {
   "cell_type": "code",
   "execution_count": 96,
   "metadata": {},
   "outputs": [],
   "source": [
    "ksurev[\"Primary_Account_Code_Descr\"] = ksurev[\"Primary_Account_Code_Descr\"].str.strip()"
   ]
  },
  {
   "cell_type": "markdown",
   "metadata": {},
   "source": [
    "After cleaning the spaces, you can start filtering your datasets to find the answer for Q5."
   ]
  },
  {
   "cell_type": "code",
   "execution_count": null,
   "metadata": {},
   "outputs": [],
   "source": []
  },
  {
   "cell_type": "markdown",
   "metadata": {},
   "source": [
    "<b>Answer:</b>"
   ]
  },
  {
   "cell_type": "markdown",
   "metadata": {},
   "source": [
    "### Q6: Where did the money go? (Answer for both universities)\n",
    "*Refer to the description [here] (http://kanview.ks.gov/Expenditures/AcctCodeExpenditures.aspx) to write your answer."
   ]
  },
  {
   "cell_type": "code",
   "execution_count": 100,
   "metadata": {},
   "outputs": [
    {
     "data": {
      "text/plain": [
       "Primary_Account_Code_Descr\n",
       "CAPITAL OUTLAY                    64350550.130\n",
       "COMMODITIES                       42670908.840\n",
       "CONTRACTUAL SERVICES             128541598.280\n",
       "DEBT SERVICE                      32442445.100\n",
       "EXPENSE TRANSFERS                 37130576.230\n",
       "GRANTS CLAIMS SHARED REVENUE     106551248.640\n",
       "NONEXPENSE ITEMS                 130529992.790\n",
       "SALARIES AND WAGES               476367053.010\n",
       "Name: Total, dtype: float64"
      ]
     },
     "execution_count": 100,
     "metadata": {},
     "output_type": "execute_result"
    }
   ],
   "source": [
    "ksuexp.groupby(\"Primary_Account_Code_Descr\").Total.sum()"
   ]
  },
  {
   "cell_type": "code",
   "execution_count": 101,
   "metadata": {},
   "outputs": [
    {
     "data": {
      "text/plain": [
       "Primary_Account_Code_Descr\n",
       "CAPITAL OUTLAY                    70676545.250\n",
       "COMMODITIES                       24225857.120\n",
       "CONTRACTUAL SERVICES             139630507.780\n",
       "DEBT SERVICE                      25309742.030\n",
       "EXPENSE TRANSFERS                 25815417.520\n",
       "GRANTS CLAIMS SHARED REVENUE      71439705.360\n",
       "NONEXPENSE ITEMS                 161145084.400\n",
       "SALARIES AND WAGES               471996016.150\n",
       "Name: Total, dtype: float64"
      ]
     },
     "execution_count": 101,
     "metadata": {},
     "output_type": "execute_result"
    }
   ],
   "source": [
    "kuexp.groupby(\"Primary_Account_Code_Descr\").Total.sum()"
   ]
  },
  {
   "cell_type": "markdown",
   "metadata": {},
   "source": [
    "<b>Answer:</b> Capital Outlay, Commodities, Contractual Services, Debt Services, Expense Transfers, Grant Claims Shared Revenue, Nonexpense Items, and Salaries and Wages for both."
   ]
  },
  {
   "cell_type": "markdown",
   "metadata": {},
   "source": [
    "### Q7: What costs two universities the most? "
   ]
  },
  {
   "cell_type": "code",
   "execution_count": 105,
   "metadata": {},
   "outputs": [
    {
     "data": {
      "text/plain": [
       "Primary_Account_Code_Descr\n",
       "CAPITAL OUTLAY                    64350550.130\n",
       "COMMODITIES                       42670908.840\n",
       "CONTRACTUAL SERVICES             128541598.280\n",
       "DEBT SERVICE                      32442445.100\n",
       "EXPENSE TRANSFERS                 37130576.230\n",
       "GRANTS CLAIMS SHARED REVENUE     106551248.640\n",
       "NONEXPENSE ITEMS                 130529992.790\n",
       "SALARIES AND WAGES               476367053.010\n",
       "Name: Total, dtype: float64"
      ]
     },
     "execution_count": 105,
     "metadata": {},
     "output_type": "execute_result"
    }
   ],
   "source": [
    "ksuexp.groupby(\"Primary_Account_Code_Descr\").Total.sum()"
   ]
  },
  {
   "cell_type": "markdown",
   "metadata": {},
   "source": [
    "<b>Answer: Salaries and Wages for KSU and KU. "
   ]
  },
  {
   "cell_type": "markdown",
   "metadata": {},
   "source": [
    "### Q8: Calculate the percentage of this cost over each university's total expense."
   ]
  },
  {
   "cell_type": "code",
   "execution_count": null,
   "metadata": {},
   "outputs": [],
   "source": []
  },
  {
   "cell_type": "markdown",
   "metadata": {},
   "source": [
    "<b>Answer:</b> "
   ]
  },
  {
   "cell_type": "markdown",
   "metadata": {},
   "source": [
    "### Q9: Breakdown the cost you found in Q7 for both universities.\n",
    "Again, if you run into a situation where a filter function returns 0 results, you may want to check if there are leading and trailing spaces in the column. To clean the leading and trailing spaces, you will need to remove the hashtag, revise the names, and run the following code:"
   ]
  },
  {
   "cell_type": "code",
   "execution_count": 3,
   "metadata": {},
   "outputs": [],
   "source": [
    "#yourdataframe[\"yourcolumnname\"] = yourdataframe[\"yourcolumnname\"].str.strip()"
   ]
  },
  {
   "cell_type": "code",
   "execution_count": null,
   "metadata": {},
   "outputs": [],
   "source": []
  },
  {
   "cell_type": "markdown",
   "metadata": {},
   "source": [
    "<b>Answer:</b>"
   ]
  },
  {
   "cell_type": "markdown",
   "metadata": {},
   "source": [
    "### Q10: Compare the breakdown costs from Q9 side by side.\n",
    "When you merge the two subsets, make sure to add the attribute <b>how =\"outer\"</b> so that you can keep every item from both sets.\n",
    "*For example: merge = pd.merge(df1, df2, how=\"outer\", on=\"columnname\")"
   ]
  },
  {
   "cell_type": "code",
   "execution_count": null,
   "metadata": {},
   "outputs": [],
   "source": []
  },
  {
   "cell_type": "markdown",
   "metadata": {},
   "source": [
    "<b>Answer:</b>"
   ]
  },
  {
   "cell_type": "markdown",
   "metadata": {},
   "source": [
    "## III. BONUS QUESTIONS\n",
    "* Each question's worth 15 points.\n"
   ]
  },
  {
   "cell_type": "markdown",
   "metadata": {},
   "source": [
    "### B1: Which university made a profit in the fiscal year of 2018?"
   ]
  },
  {
   "cell_type": "code",
   "execution_count": 76,
   "metadata": {},
   "outputs": [
    {
     "data": {
      "text/plain": [
       "Fiscal_Year                                                                 21295954\n",
       "Fiscal_Quarter                                                                 27075\n",
       "Business_Unit                                                                7197146\n",
       "Business_Unit_Descr                University of Kansas          University of Ka...\n",
       "GAAP_Fund_Type                                                                115356\n",
       "GAAP_Fund_Type_Descr               General Fund                  General Fund    ...\n",
       "Fund_Code                                                                   29412141\n",
       "Fund_Code_Descr                    STATE GENERAL FUND            STATE GENERAL FU...\n",
       "Budget_Ref                                                                  26511953\n",
       "Budget_Ref_Descr                   OPERATING EXP-INCLD OFF HOS                   ...\n",
       "Program_Code                                                               549045000\n",
       "Program_Code_Descr                 Instructional Services        Academic Support...\n",
       "State_Function                                                                250642\n",
       "State_Function_Descr               Education                                     ...\n",
       "Primary_Account_Code                                                        55066800\n",
       "Primary_Account_Code_Descr         CONTRACTUAL SERVICES          SALARIES AND WAG...\n",
       "Intermediate_Account_Code                                                  553957150\n",
       "Intermediate_Account_Code_Descr    FEES-OTHER SERVICES           SALARIES AND WAG...\n",
       "Detail_Account_Code                                                       5562437249\n",
       "Detail_Account_Code_Descr          OTHER FEES                    UNCLASSIFIED REG...\n",
       "Total                                                                    9.90239e+08\n",
       "Unnamed: 21                                                                        0\n",
       "dtype: object"
      ]
     },
     "execution_count": 76,
     "metadata": {},
     "output_type": "execute_result"
    }
   ],
   "source": [
    "kuexp.sum()"
   ]
  },
  {
   "cell_type": "markdown",
   "metadata": {},
   "source": [
    "<b>Answer:</b> KSU made more money by $25,644,744."
   ]
  },
  {
   "cell_type": "code",
   "execution_count": 77,
   "metadata": {},
   "outputs": [
    {
     "data": {
      "text/plain": [
       "44767312"
      ]
     },
     "execution_count": 77,
     "metadata": {},
     "output_type": "execute_result"
    }
   ],
   "source": [
    "48621692-3854380"
   ]
  },
  {
   "cell_type": "code",
   "execution_count": 78,
   "metadata": {},
   "outputs": [
    {
     "data": {
      "text/plain": [
       "19122568"
      ]
     },
     "execution_count": 78,
     "metadata": {},
     "output_type": "execute_result"
    }
   ],
   "source": [
    "21295954-2173386"
   ]
  },
  {
   "cell_type": "code",
   "execution_count": 79,
   "metadata": {},
   "outputs": [
    {
     "data": {
      "text/plain": [
       "25644744"
      ]
     },
     "execution_count": 79,
     "metadata": {},
     "output_type": "execute_result"
    }
   ],
   "source": [
    "44767312-19122568"
   ]
  },
  {
   "cell_type": "markdown",
   "metadata": {},
   "source": [
    "### B2: Which software program do you like the most in this course? Why?"
   ]
  },
  {
   "cell_type": "markdown",
   "metadata": {},
   "source": [
    "<b>Answer:</b> Probably R because we used it for a month and so it was the easiest to remember. "
   ]
  },
  {
   "cell_type": "markdown",
   "metadata": {},
   "source": [
    "### END OF THE TEST"
   ]
  }
 ],
 "metadata": {
  "kernelspec": {
   "display_name": "Python 2",
   "language": "python",
   "name": "python2"
  },
  "language_info": {
   "codemirror_mode": {
    "name": "ipython",
    "version": 2
   },
   "file_extension": ".py",
   "mimetype": "text/x-python",
   "name": "python",
   "nbconvert_exporter": "python",
   "pygments_lexer": "ipython2",
   "version": "2.7.10"
  }
 },
 "nbformat": 4,
 "nbformat_minor": 2
}
